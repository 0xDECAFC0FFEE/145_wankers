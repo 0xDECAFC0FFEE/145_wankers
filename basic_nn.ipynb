{
 "cells": [
  {
   "cell_type": "code",
   "execution_count": 1,
   "metadata": {},
   "outputs": [
    {
     "name": "stderr",
     "output_type": "stream",
     "text": [
      "WARNING:root:Limited tf.compat.v2.summary API due to missing TensorBoard installation.\n"
     ]
    }
   ],
   "source": [
    "# implementation of probabilistic matrix factorisation\n",
    "# very roughly based off neural net in https://towardsdatascience.com/collaborative-filtering-and-embeddings-part-2-919da17ecefb\n",
    "\n",
    "%load_ext autoreload\n",
    "%autoreload 2\n",
    "\n",
    "from utils import *\n",
    "\n",
    "import pickle\n",
    "import random\n",
    "import numpy as np\n",
    "from scipy.sparse import csr_matrix, save_npz, load_npz\n",
    "from tqdm.notebook import tqdm\n",
    "from itertools import chain\n",
    "from collections import Counter, defaultdict\n",
    "from pathlib import Path\n",
    "from sklearn import metrics\n",
    "import csv\n",
    "import datetime\n",
    "import tensorflow as tf\n",
    "import math\n",
    "import matplotlib.pyplot as plt"
   ]
  },
  {
   "cell_type": "code",
   "execution_count": 2,
   "metadata": {},
   "outputs": [],
   "source": [
    "movieid_mid_lookup = get_movieid_mid_lookup(recompute=False)"
   ]
  },
  {
   "cell_type": "code",
   "execution_count": 3,
   "metadata": {},
   "outputs": [
    {
     "name": "stdout",
     "output_type": "stream",
     "text": [
      "retrieving dataset from dataset/train_ratings_binary.csv\n",
      "retrieving dataset from dataset/val_ratings_binary.csv\n",
      "retrieving dataset from dataset/test_ratings.csv\n"
     ]
    }
   ],
   "source": [
    "user_Xs, movie_Xs, ys = get_dataset(train_set, include_ys=True, recompute=False)\n",
    "user_val_Xs, movie_val_Xs, val_ys = get_dataset(val_set, include_ys=True, recompute=False)\n",
    "user_test_Xs, movie_test_Xs = get_dataset(test_set, include_ys=False, recompute=False)\n",
    "movie_genres_one_hot = get_movie_genres_one_hot(recompute=False)\n",
    "\n",
    "train_genres = get_dataset_genres(train_set, dataset_includes_ys=True, recompute=False)\n",
    "val_genres = get_dataset_genres(val_set, dataset_includes_ys=True, recompute=False)\n",
    "test_genres = get_dataset_genres(test_set, dataset_includes_ys=False, recompute=False)"
   ]
  },
  {
   "cell_type": "markdown",
   "metadata": {},
   "source": [
    "no_genre_count = 0\n",
    "total = 0\n",
    "\n",
    "with open(test_set, newline=\"\") as csvfile:\n",
    "    reader = csv.DictReader(csvfile)\n",
    "    for rating in tqdm(reader):\n",
    "        if movieid_mid_lookup[int(float(rating[\"movieId\"]))] not in movie_genres_one_hot:\n",
    "            no_genre_count += 1\n",
    "        total += 1\n",
    "\n",
    "print(f\"{no_genre_count}/{total} entries in the test data doesn't have genre info ({no_genre_count/total}%)\")\n",
    "# all movies in test data accounted for in genre information dataset"
   ]
  },
  {
   "cell_type": "code",
   "execution_count": 4,
   "metadata": {},
   "outputs": [],
   "source": [
    "# # no memory - implicitly calculating user movie matrix from now on\n",
    "\n",
    "# movie_embeddings = tf.Variable(tf.random_normal([5, NUM_MOVIES], stddev=0.03, dtype=tf.float32))\n",
    "# user_embeddings = tf.Variable(tf.random_normal([NUM_USERS, 5], stddev=0.03, dtype=tf.float32))\n",
    "# movie_bias = tf.Variable(tf.random_normal([1, NUM_MOVIES], stddev=0.03, dtype=tf.float32))\n",
    "# user_bias = tf.Variable(tf.random_normal([NUM_USERS, 1], stddev=0.03, dtype=tf.float32))\n",
    "\n",
    "# user_movie_score = tf.tensordot(user_embeddings, movie_embeddings, axes = 1)+.14*tf.tile(movie_bias, [NUM_USERS, 1]) +.87*tf.tile(user_bias, [1, NUM_MOVIES])\n"
   ]
  },
  {
   "cell_type": "code",
   "execution_count": 5,
   "metadata": {},
   "outputs": [
    {
     "name": "stderr",
     "output_type": "stream",
     "text": [
      "  2%|▏         | 230794/11946576 [00:00<00:05, 2307936.70it/s]"
     ]
    },
    {
     "name": "stdout",
     "output_type": "stream",
     "text": [
      "getting tags\n"
     ]
    },
    {
     "name": "stderr",
     "output_type": "stream",
     "text": [
      "100%|██████████| 11946576/11946576 [00:04<00:00, 2736804.25it/s]\n",
      "  6%|▌         | 224748/3999236 [00:00<00:01, 2247476.78it/s]"
     ]
    },
    {
     "name": "stdout",
     "output_type": "stream",
     "text": [
      "getting tags\n"
     ]
    },
    {
     "name": "stderr",
     "output_type": "stream",
     "text": [
      "100%|██████████| 3999236/3999236 [00:01<00:00, 2559334.52it/s]\n",
      "  5%|▌         | 214765/4054451 [00:00<00:01, 2147641.81it/s]"
     ]
    },
    {
     "name": "stdout",
     "output_type": "stream",
     "text": [
      "getting tags\n"
     ]
    },
    {
     "name": "stderr",
     "output_type": "stream",
     "text": [
      "100%|██████████| 4054451/4054451 [00:01<00:00, 2527066.00it/s]"
     ]
    },
    {
     "name": "stdout",
     "output_type": "stream",
     "text": [
      "projected down to 646 dims from 1128 dimensions (reduced by 0.4273049645390071)\n"
     ]
    },
    {
     "name": "stderr",
     "output_type": "stream",
     "text": [
      "\n"
     ]
    }
   ],
   "source": [
    "# use pca to reduce dimensions with preserved_variance=0.96875 => dim=768 (reduction by 32%), val mse=0.031122472 on scaled data\n",
    "preserved_variance = 0.95\n",
    "\n",
    "train_tags = get_tags(movie_Xs, preserved_variance, recompute=False)\n",
    "val_tags = get_tags(movie_val_Xs, preserved_variance, recompute=False)\n",
    "test_tags = get_tags(movie_test_Xs, preserved_variance, recompute=False)\n",
    "\n",
    "NUM_PROJ_TAGS = train_tags[0].shape[0]\n",
    "print(f\"projected down to {NUM_PROJ_TAGS} dims from {NUM_TAGS} dimensions (reduced by {1-NUM_PROJ_TAGS/NUM_TAGS})\")"
   ]
  },
  {
   "cell_type": "code",
   "execution_count": 10,
   "metadata": {},
   "outputs": [
    {
     "name": "stdout",
     "output_type": "stream",
     "text": [
      "movie_embedding_rows shape (?, 40)\n",
      "(?, 40) (?, 40) (?, 1)\n",
      "input layer shape (?, 142)\n",
      "pred_y shape (?, 2)\n"
     ]
    }
   ],
   "source": [
    "# the model\n",
    "\n",
    "embedding_dim = 40\n",
    "\n",
    "# tags = tf.placeholder(dtype=tf.float32, shape=[None, NUM_PROJ_TAGS])\n",
    "movie_genre_embeddings = tf.placeholder(dtype=tf.float32, shape=[None, 20])\n",
    "movie_embeddings = tf.Variable(tf.contrib.layers.xavier_initializer(dtype=tf.float32)([NUM_MOVIES, embedding_dim]))\n",
    "user_embeddings = tf.Variable(tf.contrib.layers.xavier_initializer(dtype=tf.float32)([NUM_USERS, embedding_dim]))\n",
    "movie_bias = tf.Variable(tf.random_normal([NUM_MOVIES], stddev=0.03, dtype=tf.float32))\n",
    "user_bias = tf.Variable(tf.random_normal([NUM_USERS], stddev=0.03, dtype=tf.float32))\n",
    "\n",
    "user_slice_idxs = tf.placeholder(dtype=tf.int64, shape=[None, 1]) # columns vectors to do tensor slicing\n",
    "movie_slice_idxs = tf.placeholder(dtype=tf.int64, shape=[None, 1]) # columns vectors to do tensor slicing\n",
    "user_bias_idxs = tf.placeholder(dtype=tf.int64, shape=[None, 1]) # columns vectors to do tensor slicing\n",
    "movie_bias_idxs = tf.placeholder(dtype=tf.int64, shape=[None, 1]) # columns vectors to do tensor slicing\n",
    "\n",
    "user_embedding_columns = tf.reshape(tf.gather_nd(user_embeddings, user_slice_idxs), [-1, embedding_dim])\n",
    "movie_embedding_rows = tf.reshape(tf.gather_nd(movie_embeddings, movie_slice_idxs), [-1, embedding_dim])\n",
    "print(\"movie_embedding_rows shape\", movie_embedding_rows.shape)\n",
    "\n",
    "user_slice_bias = tf.reshape(tf.gather_nd(user_bias, user_slice_idxs), [-1, 1])\n",
    "movie_slice_bias = tf.reshape(tf.gather_nd(movie_bias, movie_slice_idxs), [-1, 1])\n",
    "# print(\"user_slice_bias shape\", user_slice_bias.shape)\n",
    "\n",
    "# print((user_embedding_columns * tf.concat((movie_embedding_rows, movie_genre_embeddings), axis=1)).shape)\n",
    "# print(movie_slice_bias.shape)\n",
    "# print(user_slice_bias\".shape)\n",
    "\n",
    "mult_input = movie_embedding_rows * user_embedding_columns\n",
    "input_layer = tf.concat((\n",
    "#     tags,\n",
    "    mult_input,\n",
    "    movie_embedding_rows,\n",
    "    movie_genre_embeddings,\n",
    "    user_embedding_columns,\n",
    "    user_slice_bias,\n",
    "    movie_slice_bias), axis=1)\n",
    "print(movie_embedding_rows.shape, user_embedding_columns.shape, user_slice_bias.shape)\n",
    "print(\"input layer shape\", input_layer.shape)\n",
    "\n",
    "W1 = tf.Variable(tf.contrib.layers.xavier_initializer()(shape=[int(input_layer.shape[1]), 40], dtype=tf.float32))\n",
    "b1 = tf.Variable(initial_value=np.zeros(shape=[40], dtype=np.float32))\n",
    "l1 = tf.nn.relu(tf.matmul(input_layer, W1) + b1)\n",
    "\n",
    "W2 = tf.Variable(tf.contrib.layers.xavier_initializer()(shape=[40, 20], dtype=tf.float32))\n",
    "b2 = tf.Variable(initial_value=np.zeros(shape=[20], dtype=np.float32))\n",
    "l2 = tf.nn.relu(tf.matmul(l1, W2) + b2)\n",
    "\n",
    "W3 = tf.Variable(tf.contrib.layers.xavier_initializer()(shape=[20, 2], dtype=tf.float32))\n",
    "b3 = tf.Variable(initial_value=np.zeros(shape=[2], dtype=np.float32))\n",
    "pred_y =tf.nn.sigmoid(tf.matmul(l2, W3) + b3)\n",
    "\n",
    "print(\"pred_y shape\", pred_y.shape)\n",
    "\n",
    "# embedding_pred_vectors = tf.reshape(tf.reduce_sum(user_embedding_columns * tf.concat((movie_embedding_rows, movie_genre_embeddings), axis=1), axis=1), (-1, 1))\n",
    "# pred_y = embedding_pred_vectors + .14*movie_slice_bias + .87*user_slice_bias\n",
    "# print(embedding_pred_vectors.shape)\n",
    "# print(pred_y.shape)\n",
    "\n",
    "y_true = tf.placeholder(dtype=tf.float32, shape=[None, 2])\n"
   ]
  },
  {
   "cell_type": "code",
   "execution_count": 12,
   "metadata": {},
   "outputs": [],
   "source": [
    "plot_weights = True\n",
    "\n",
    "def run_expr(learning_rate=.05, epochs=60):\n",
    "#     l2_loss_term = .0001 * sum([tf.reduce_sum(tf.reshape(weight*weight, [-1])) for weight in all_weights])\n",
    "    mse_loss_term = tf.reduce_mean(tf.squared_difference(pred_y, y_true))\n",
    "    ce_loss_term = -(tf.reduce_mean(((y_true+1)/2)*tf.math.log((pred_y+1)/2)+(1-(y_true+1)/2)*tf.math.log(1-(pred_y+1)/2)))\n",
    "    loss = mse_loss_term\n",
    "    # + l2_loss_term\n",
    "    train_step = tf.train.AdamOptimizer(learning_rate=learning_rate).minimize(loss)\n",
    "\n",
    "    init = tf.global_variables_initializer()\n",
    "\n",
    "    flat_val_ys = [(1 if y[0] > y[1] else 0) for y in val_ys]\n",
    "\n",
    "    min_acc_auc = (math.inf, math.inf)\n",
    "    \n",
    "    with tf.Session() as sess:\n",
    "        sess.run(init)\n",
    "\n",
    "        for epoch in tqdm(range(epochs), leave=False):\n",
    "            feed_dict = {tags: train_tags,\n",
    "                         user_slice_idxs: user_Xs, \n",
    "                         movie_slice_idxs: movie_Xs, \n",
    "                         movie_genre_embeddings: train_genres,\n",
    "                         y_true: ys}\n",
    "            print(\"training\")\n",
    "            outs = (train_step, loss, pred_y[:5], mse_loss_term)\n",
    "            _, lossval, pred_y_val, mse_loss_term_val = sess.run(outs, feed_dict=feed_dict)\n",
    "            print(\"train loss\", lossval, \"pred_ys\", pred_y_val, \"true_ys\", ys[:5])\n",
    "\n",
    "            feed_dict = {tags: val_tags,\n",
    "                        user_slice_idxs: user_val_Xs, \n",
    "                        movie_slice_idxs: movie_val_Xs,\n",
    "                        movie_genre_embeddings: val_genres,\n",
    "                        y_true: val_ys}\n",
    "            val_y_pred, val_loss_val = sess.run((pred_y, loss), feed_dict=feed_dict)\n",
    "            flat_pred_y_floats = [y[0]/(y[0]+y[1]) for y in val_y_pred]\n",
    "            flat_pred_y_bools = [(1 if y[0] > y[1] else 0) for y in val_y_pred]\n",
    "            \n",
    "            print(\"val loss\", val_loss_val)\n",
    "            acc = metrics.accuracy_score(flat_val_ys, flat_pred_y_bools)\n",
    "            fpr, tpr, _ = metrics.roc_curve(flat_val_ys, flat_pred_y_floats)\n",
    "            auc = metrics.auc(fpr, tpr)\n",
    "            min_acc_auc = min(min_acc_auc, (acc, auc))\n",
    "        if plot_weights:\n",
    "            print(\"plotting\")\n",
    "#                 plt.hist(sess.run(mult_input, feed_dict))\n",
    "            mult_inputs = sess.run(mult_input, feed_dict), \n",
    "\n",
    "            pred_ys = sess.run(pred_y, feed_dict)\n",
    "\n",
    "            mult_input_pos = np.array([mult_input for mult_input, pred in zip(mult_inputs, pred_ys) if pred[0] > pred[1]]).flatten()\n",
    "            if len(mult_input_pos) > 0:\n",
    "                print(\"avg pos\", sum(mult_input_pos)/len(mult_input_pos), \"pos ct\", len(mult_input_pos))\n",
    "            else:\n",
    "                print(mult_input_pos)\n",
    "            mult_input_neg = np.array([mult_input for mult_input, pred in zip(mult_inputs, pred_ys) if pred[0] <= pred[1]]).flatten()\n",
    "            if len(mult_input_neg) > 0:\n",
    "                print(\"avg neg\", sum(mult_input_neg)/len(mult_input_neg), \"neg ct\", len(mult_input_neg))\n",
    "            else:\n",
    "                print(\"mult_input_neg\", mult_input_neg)\n",
    "            \n",
    "            plt.title(\"pos inputs\")\n",
    "            plt.hist(mult_input_pos)\n",
    "            plt.show()\n",
    "            plt.title(\"neg inputs\")\n",
    "            plt.hist(mult_input_neg)\n",
    "            plt.show()\n",
    "            \n",
    "    return min_acc_auc"
   ]
  },
  {
   "cell_type": "code",
   "execution_count": 45,
   "metadata": {},
   "outputs": [
    {
     "data": {
      "application/vnd.jupyter.widget-view+json": {
       "model_id": "c5dd8853a56b4928b503a605e68d3820",
       "version_major": 2,
       "version_minor": 0
      },
      "text/plain": [
       "HBox(children=(IntProgress(value=0, max=1), HTML(value='')))"
      ]
     },
     "metadata": {},
     "output_type": "display_data"
    },
    {
     "ename": "KeyboardInterrupt",
     "evalue": "",
     "output_type": "error",
     "traceback": [
      "\u001b[0;31m---------------------------------------------------------------------------\u001b[0m",
      "\u001b[0;31mKeyboardInterrupt\u001b[0m                         Traceback (most recent call last)",
      "\u001b[0;32m<ipython-input-45-3dce12a79c2a>\u001b[0m in \u001b[0;36m<module>\u001b[0;34m\u001b[0m\n\u001b[1;32m      6\u001b[0m \u001b[0;32mfor\u001b[0m \u001b[0mlr\u001b[0m\u001b[0;34m,\u001b[0m \u001b[0mepochs\u001b[0m \u001b[0;32min\u001b[0m \u001b[0mtqdm\u001b[0m\u001b[0;34m(\u001b[0m\u001b[0mlist\u001b[0m\u001b[0;34m(\u001b[0m\u001b[0mexperiments\u001b[0m\u001b[0;34m)\u001b[0m\u001b[0;34m)\u001b[0m\u001b[0;34m:\u001b[0m\u001b[0;34m\u001b[0m\u001b[0;34m\u001b[0m\u001b[0m\n\u001b[1;32m      7\u001b[0m     \u001b[0;32mtry\u001b[0m\u001b[0;34m:\u001b[0m\u001b[0;34m\u001b[0m\u001b[0;34m\u001b[0m\u001b[0m\n\u001b[0;32m----> 8\u001b[0;31m         \u001b[0mscore\u001b[0m \u001b[0;34m=\u001b[0m \u001b[0mrun_expr\u001b[0m\u001b[0;34m(\u001b[0m\u001b[0mlr\u001b[0m\u001b[0;34m,\u001b[0m \u001b[0mepochs\u001b[0m\u001b[0;34m)\u001b[0m\u001b[0;34m\u001b[0m\u001b[0;34m\u001b[0m\u001b[0m\n\u001b[0m\u001b[1;32m      9\u001b[0m         \u001b[0mmin_overall_score\u001b[0m \u001b[0;34m=\u001b[0m \u001b[0mmin\u001b[0m\u001b[0;34m(\u001b[0m\u001b[0mmin_overall_score\u001b[0m\u001b[0;34m,\u001b[0m \u001b[0mscore\u001b[0m\u001b[0;34m)\u001b[0m\u001b[0;34m\u001b[0m\u001b[0;34m\u001b[0m\u001b[0m\n\u001b[1;32m     10\u001b[0m         \u001b[0mexperiment_scores\u001b[0m\u001b[0;34m[\u001b[0m\u001b[0mlr\u001b[0m\u001b[0;34m]\u001b[0m \u001b[0;34m=\u001b[0m \u001b[0mscore\u001b[0m\u001b[0;34m\u001b[0m\u001b[0;34m\u001b[0m\u001b[0m\n",
      "\u001b[0;32m<ipython-input-40-8d4d74ae1d00>\u001b[0m in \u001b[0;36mrun_expr\u001b[0;34m(learning_rate, epochs)\u001b[0m\n\u001b[1;32m     17\u001b[0m     \u001b[0mmin_acc_auc\u001b[0m \u001b[0;34m=\u001b[0m \u001b[0;34m(\u001b[0m\u001b[0mmath\u001b[0m\u001b[0;34m.\u001b[0m\u001b[0minf\u001b[0m\u001b[0;34m,\u001b[0m \u001b[0mmath\u001b[0m\u001b[0;34m.\u001b[0m\u001b[0minf\u001b[0m\u001b[0;34m)\u001b[0m\u001b[0;34m\u001b[0m\u001b[0;34m\u001b[0m\u001b[0m\n\u001b[1;32m     18\u001b[0m \u001b[0;34m\u001b[0m\u001b[0m\n\u001b[0;32m---> 19\u001b[0;31m     \u001b[0mtrain_tags\u001b[0m \u001b[0;34m=\u001b[0m \u001b[0mnp\u001b[0m\u001b[0;34m.\u001b[0m\u001b[0marray\u001b[0m\u001b[0;34m(\u001b[0m\u001b[0;34m[\u001b[0m\u001b[0mget_tag\u001b[0m\u001b[0;34m(\u001b[0m\u001b[0mx\u001b[0m\u001b[0;34m)\u001b[0m \u001b[0;32mfor\u001b[0m \u001b[0mx\u001b[0m \u001b[0;32min\u001b[0m \u001b[0mmovie_Xs\u001b[0m\u001b[0;34m]\u001b[0m\u001b[0;34m)\u001b[0m\u001b[0;34m\u001b[0m\u001b[0;34m\u001b[0m\u001b[0m\n\u001b[0m\u001b[1;32m     20\u001b[0m     \u001b[0mval_tags\u001b[0m \u001b[0;34m=\u001b[0m \u001b[0mnp\u001b[0m\u001b[0;34m.\u001b[0m\u001b[0marray\u001b[0m\u001b[0;34m(\u001b[0m\u001b[0;34m[\u001b[0m\u001b[0mget_tag\u001b[0m\u001b[0;34m(\u001b[0m\u001b[0mx\u001b[0m\u001b[0;34m)\u001b[0m \u001b[0;32mfor\u001b[0m \u001b[0mx\u001b[0m \u001b[0;32min\u001b[0m \u001b[0mmovie_val_Xs\u001b[0m\u001b[0;34m]\u001b[0m\u001b[0;34m)\u001b[0m\u001b[0;34m\u001b[0m\u001b[0;34m\u001b[0m\u001b[0m\n\u001b[1;32m     21\u001b[0m \u001b[0;34m\u001b[0m\u001b[0m\n",
      "\u001b[0;32m<ipython-input-40-8d4d74ae1d00>\u001b[0m in \u001b[0;36m<listcomp>\u001b[0;34m(.0)\u001b[0m\n\u001b[1;32m     17\u001b[0m     \u001b[0mmin_acc_auc\u001b[0m \u001b[0;34m=\u001b[0m \u001b[0;34m(\u001b[0m\u001b[0mmath\u001b[0m\u001b[0;34m.\u001b[0m\u001b[0minf\u001b[0m\u001b[0;34m,\u001b[0m \u001b[0mmath\u001b[0m\u001b[0;34m.\u001b[0m\u001b[0minf\u001b[0m\u001b[0;34m)\u001b[0m\u001b[0;34m\u001b[0m\u001b[0;34m\u001b[0m\u001b[0m\n\u001b[1;32m     18\u001b[0m \u001b[0;34m\u001b[0m\u001b[0m\n\u001b[0;32m---> 19\u001b[0;31m     \u001b[0mtrain_tags\u001b[0m \u001b[0;34m=\u001b[0m \u001b[0mnp\u001b[0m\u001b[0;34m.\u001b[0m\u001b[0marray\u001b[0m\u001b[0;34m(\u001b[0m\u001b[0;34m[\u001b[0m\u001b[0mget_tag\u001b[0m\u001b[0;34m(\u001b[0m\u001b[0mx\u001b[0m\u001b[0;34m)\u001b[0m \u001b[0;32mfor\u001b[0m \u001b[0mx\u001b[0m \u001b[0;32min\u001b[0m \u001b[0mmovie_Xs\u001b[0m\u001b[0;34m]\u001b[0m\u001b[0;34m)\u001b[0m\u001b[0;34m\u001b[0m\u001b[0;34m\u001b[0m\u001b[0m\n\u001b[0m\u001b[1;32m     20\u001b[0m     \u001b[0mval_tags\u001b[0m \u001b[0;34m=\u001b[0m \u001b[0mnp\u001b[0m\u001b[0;34m.\u001b[0m\u001b[0marray\u001b[0m\u001b[0;34m(\u001b[0m\u001b[0;34m[\u001b[0m\u001b[0mget_tag\u001b[0m\u001b[0;34m(\u001b[0m\u001b[0mx\u001b[0m\u001b[0;34m)\u001b[0m \u001b[0;32mfor\u001b[0m \u001b[0mx\u001b[0m \u001b[0;32min\u001b[0m \u001b[0mmovie_val_Xs\u001b[0m\u001b[0;34m]\u001b[0m\u001b[0;34m)\u001b[0m\u001b[0;34m\u001b[0m\u001b[0;34m\u001b[0m\u001b[0m\n\u001b[1;32m     21\u001b[0m \u001b[0;34m\u001b[0m\u001b[0m\n",
      "\u001b[0;32m~/Desktop/temp/145_wankers/utils.py\u001b[0m in \u001b[0;36mget_tag\u001b[0;34m(mid, recompute)\u001b[0m\n\u001b[1;32m    159\u001b[0m \u001b[0;34m\u001b[0m\u001b[0m\n\u001b[1;32m    160\u001b[0m \u001b[0;32mdef\u001b[0m \u001b[0mget_tag\u001b[0m\u001b[0;34m(\u001b[0m\u001b[0mmid\u001b[0m\u001b[0;34m,\u001b[0m \u001b[0mrecompute\u001b[0m\u001b[0;34m=\u001b[0m\u001b[0;32mFalse\u001b[0m\u001b[0;34m)\u001b[0m\u001b[0;34m:\u001b[0m\u001b[0;34m\u001b[0m\u001b[0;34m\u001b[0m\u001b[0m\n\u001b[0;32m--> 161\u001b[0;31m     \u001b[0mmovieid_mid_lookup\u001b[0m \u001b[0;34m=\u001b[0m \u001b[0mget_movieid_mid_lookup\u001b[0m\u001b[0;34m(\u001b[0m\u001b[0;34m)\u001b[0m\u001b[0;34m\u001b[0m\u001b[0;34m\u001b[0m\u001b[0m\n\u001b[0m\u001b[1;32m    162\u001b[0m     \u001b[0;32mif\u001b[0m \u001b[0mget_tag\u001b[0m\u001b[0;34m.\u001b[0m\u001b[0mmid_to_tag\u001b[0m \u001b[0;34m==\u001b[0m \u001b[0;32mNone\u001b[0m\u001b[0;34m:\u001b[0m\u001b[0;34m\u001b[0m\u001b[0;34m\u001b[0m\u001b[0m\n\u001b[1;32m    163\u001b[0m         \u001b[0;32mif\u001b[0m \u001b[0mrecompute\u001b[0m\u001b[0;34m:\u001b[0m\u001b[0;34m\u001b[0m\u001b[0;34m\u001b[0m\u001b[0m\n",
      "\u001b[0;32m~/Desktop/temp/145_wankers/utils.py\u001b[0m in \u001b[0;36mget_movieid_mid_lookup\u001b[0;34m(recompute)\u001b[0m\n\u001b[1;32m     51\u001b[0m     \u001b[0;32melse\u001b[0m\u001b[0;34m:\u001b[0m\u001b[0;34m\u001b[0m\u001b[0;34m\u001b[0m\u001b[0m\n\u001b[1;32m     52\u001b[0m         \u001b[0;32mwith\u001b[0m \u001b[0mopen\u001b[0m\u001b[0;34m(\u001b[0m\u001b[0;34m\"movieid_mid_lookup.pickle\"\u001b[0m\u001b[0;34m,\u001b[0m \u001b[0;34m\"rb\"\u001b[0m\u001b[0;34m)\u001b[0m \u001b[0;32mas\u001b[0m \u001b[0mlookup_file\u001b[0m\u001b[0;34m:\u001b[0m\u001b[0;34m\u001b[0m\u001b[0;34m\u001b[0m\u001b[0m\n\u001b[0;32m---> 53\u001b[0;31m             \u001b[0mmovieid_mid_lookup\u001b[0m \u001b[0;34m=\u001b[0m \u001b[0mpickle\u001b[0m\u001b[0;34m.\u001b[0m\u001b[0mload\u001b[0m\u001b[0;34m(\u001b[0m\u001b[0mlookup_file\u001b[0m\u001b[0;34m)\u001b[0m\u001b[0;34m\u001b[0m\u001b[0;34m\u001b[0m\u001b[0m\n\u001b[0m\u001b[1;32m     54\u001b[0m         \u001b[0;32mreturn\u001b[0m \u001b[0mmovieid_mid_lookup\u001b[0m\u001b[0;34m\u001b[0m\u001b[0;34m\u001b[0m\u001b[0m\n\u001b[1;32m     55\u001b[0m \u001b[0;34m\u001b[0m\u001b[0m\n",
      "\u001b[0;32m~/.local/lib/python3.6/site-packages/dill/_dill.py\u001b[0m in \u001b[0;36mload\u001b[0;34m(file, ignore, **kwds)\u001b[0m\n\u001b[1;32m    268\u001b[0m \u001b[0;32mdef\u001b[0m \u001b[0mload\u001b[0m\u001b[0;34m(\u001b[0m\u001b[0mfile\u001b[0m\u001b[0;34m,\u001b[0m \u001b[0mignore\u001b[0m\u001b[0;34m=\u001b[0m\u001b[0;32mNone\u001b[0m\u001b[0;34m,\u001b[0m \u001b[0;34m**\u001b[0m\u001b[0mkwds\u001b[0m\u001b[0;34m)\u001b[0m\u001b[0;34m:\u001b[0m\u001b[0;34m\u001b[0m\u001b[0;34m\u001b[0m\u001b[0m\n\u001b[1;32m    269\u001b[0m     \u001b[0;34m\"\"\"unpickle an object from a file\"\"\"\u001b[0m\u001b[0;34m\u001b[0m\u001b[0;34m\u001b[0m\u001b[0m\n\u001b[0;32m--> 270\u001b[0;31m     \u001b[0;32mreturn\u001b[0m \u001b[0mUnpickler\u001b[0m\u001b[0;34m(\u001b[0m\u001b[0mfile\u001b[0m\u001b[0;34m,\u001b[0m \u001b[0mignore\u001b[0m\u001b[0;34m=\u001b[0m\u001b[0mignore\u001b[0m\u001b[0;34m,\u001b[0m \u001b[0;34m**\u001b[0m\u001b[0mkwds\u001b[0m\u001b[0;34m)\u001b[0m\u001b[0;34m.\u001b[0m\u001b[0mload\u001b[0m\u001b[0;34m(\u001b[0m\u001b[0;34m)\u001b[0m\u001b[0;34m\u001b[0m\u001b[0;34m\u001b[0m\u001b[0m\n\u001b[0m\u001b[1;32m    271\u001b[0m \u001b[0;34m\u001b[0m\u001b[0m\n\u001b[1;32m    272\u001b[0m \u001b[0;32mdef\u001b[0m \u001b[0mloads\u001b[0m\u001b[0;34m(\u001b[0m\u001b[0mstr\u001b[0m\u001b[0;34m,\u001b[0m \u001b[0mignore\u001b[0m\u001b[0;34m=\u001b[0m\u001b[0;32mNone\u001b[0m\u001b[0;34m,\u001b[0m \u001b[0;34m**\u001b[0m\u001b[0mkwds\u001b[0m\u001b[0;34m)\u001b[0m\u001b[0;34m:\u001b[0m\u001b[0;34m\u001b[0m\u001b[0;34m\u001b[0m\u001b[0m\n",
      "\u001b[0;32m~/.local/lib/python3.6/site-packages/dill/_dill.py\u001b[0m in \u001b[0;36mload\u001b[0;34m(self)\u001b[0m\n\u001b[1;32m    470\u001b[0m \u001b[0;34m\u001b[0m\u001b[0m\n\u001b[1;32m    471\u001b[0m     \u001b[0;32mdef\u001b[0m \u001b[0mload\u001b[0m\u001b[0;34m(\u001b[0m\u001b[0mself\u001b[0m\u001b[0;34m)\u001b[0m\u001b[0;34m:\u001b[0m \u001b[0;31m#NOTE: if settings change, need to update attributes\u001b[0m\u001b[0;34m\u001b[0m\u001b[0;34m\u001b[0m\u001b[0m\n\u001b[0;32m--> 472\u001b[0;31m         \u001b[0mobj\u001b[0m \u001b[0;34m=\u001b[0m \u001b[0mStockUnpickler\u001b[0m\u001b[0;34m.\u001b[0m\u001b[0mload\u001b[0m\u001b[0;34m(\u001b[0m\u001b[0mself\u001b[0m\u001b[0;34m)\u001b[0m\u001b[0;34m\u001b[0m\u001b[0;34m\u001b[0m\u001b[0m\n\u001b[0m\u001b[1;32m    473\u001b[0m         \u001b[0;32mif\u001b[0m \u001b[0mtype\u001b[0m\u001b[0;34m(\u001b[0m\u001b[0mobj\u001b[0m\u001b[0;34m)\u001b[0m\u001b[0;34m.\u001b[0m\u001b[0m__module__\u001b[0m \u001b[0;34m==\u001b[0m \u001b[0mgetattr\u001b[0m\u001b[0;34m(\u001b[0m\u001b[0m_main_module\u001b[0m\u001b[0;34m,\u001b[0m \u001b[0;34m'__name__'\u001b[0m\u001b[0;34m,\u001b[0m \u001b[0;34m'__main__'\u001b[0m\u001b[0;34m)\u001b[0m\u001b[0;34m:\u001b[0m\u001b[0;34m\u001b[0m\u001b[0;34m\u001b[0m\u001b[0m\n\u001b[1;32m    474\u001b[0m             \u001b[0;32mif\u001b[0m \u001b[0;32mnot\u001b[0m \u001b[0mself\u001b[0m\u001b[0;34m.\u001b[0m\u001b[0m_ignore\u001b[0m\u001b[0;34m:\u001b[0m\u001b[0;34m\u001b[0m\u001b[0;34m\u001b[0m\u001b[0m\n",
      "\u001b[0;31mKeyboardInterrupt\u001b[0m: "
     ]
    }
   ],
   "source": [
    "min_overall_score = (math.inf, math.inf)\n",
    "experiment_scores = {}\n",
    "# experiments = zip([.1, .07, .06, .05, .04, .03, .01], [40] * 100)\n",
    "experiments = zip([.04], [40] * 100)\n",
    "\n",
    "for lr, epochs in tqdm(list(experiments)):\n",
    "    try:\n",
    "        score = run_expr(lr, epochs)\n",
    "        min_overall_score = min(min_overall_score, score)\n",
    "        experiment_scores[lr] = score\n",
    "    except Exception as e:\n",
    "        print(e)\n",
    "        pass\n",
    "\n",
    "print(min_overall_score)\n",
    "print(experiment_scores)\n"
   ]
  },
  {
   "cell_type": "code",
   "execution_count": null,
   "metadata": {},
   "outputs": [
    {
     "data": {
      "application/vnd.jupyter.widget-view+json": {
       "model_id": "0ad647eca636452a8bae29c3dd6c3f48",
       "version_major": 2,
       "version_minor": 0
      },
      "text/plain": [
       "HBox(children=(IntProgress(value=0, max=50), HTML(value='')))"
      ]
     },
     "metadata": {},
     "output_type": "display_data"
    },
    {
     "name": "stdout",
     "output_type": "stream",
     "text": [
      "epoch 0\n",
      "training\n",
      "train loss 0.25282305\n",
      "val loss 0.267319\n",
      "val acc 0.5171700294756298 val auc 0.5352009873692812\n",
      "epoch 1\n",
      "training\n",
      "train loss 0.272101\n",
      "val loss 0.23816071\n",
      "val acc 0.6355678934676523 val auc 0.6879839688265318\n",
      "epoch 2\n",
      "training\n",
      "train loss 0.23357986\n",
      "val loss 0.2220021\n",
      "val acc 0.6660802213222725 val auc 0.7296670910500562\n",
      "epoch 3\n",
      "training\n",
      "train loss 0.21311893\n",
      "val loss 0.20636801\n",
      "val acc 0.6816061867816753 val auc 0.7470892292284769\n",
      "epoch 4\n",
      "training\n",
      "train loss 0.1962951\n",
      "val loss 0.20505121\n",
      "val acc 0.6880116602271034 val auc 0.7613870442723754\n",
      "epoch 5\n",
      "training\n",
      "train loss 0.19286156\n",
      "val loss 0.20079342\n",
      "val acc 0.696845097413606 val auc 0.7681926214943051\n",
      "epoch 6\n",
      "training\n",
      "train loss 0.18640096\n",
      "val loss 0.19826701\n",
      "val acc 0.7001337255415785 val auc 0.7708051333574822\n",
      "epoch 7\n",
      "training\n",
      "train loss 0.18344074\n",
      "val loss 0.19516\n",
      "val acc 0.7030115252013135 val auc 0.7739895804343615\n",
      "epoch 8\n",
      "training\n",
      "train loss 0.18192983\n",
      "val loss 0.19285758\n",
      "val acc 0.7052071945741637 val auc 0.7767561405363745\n",
      "epoch 9\n",
      "training\n",
      "train loss 0.18051465\n",
      "val loss 0.1917283\n",
      "val acc 0.7066644729143267 val auc 0.779095058817619\n",
      "epoch 10\n",
      "training\n",
      "train loss 0.17875394\n",
      "val loss 0.19195497\n",
      "val acc 0.7078186933704338 val auc 0.7805423962988102\n",
      "epoch 11\n",
      "training\n",
      "train loss 0.17809969\n",
      "val loss 0.19147867\n",
      "val acc 0.709188454994904 val auc 0.7821687361672179\n",
      "epoch 12\n",
      "training\n",
      "train loss 0.17674759\n",
      "val loss 0.19044577\n",
      "val acc 0.7099298466007007 val auc 0.7835266187735935\n",
      "epoch 13\n",
      "training\n",
      "train loss 0.17519698\n",
      "val loss 0.18963753\n",
      "val acc 0.7107122460389934 val auc 0.7843923371514246\n",
      "epoch 14\n",
      "training\n",
      "train loss 0.17389914\n",
      "val loss 0.18902645\n",
      "val acc 0.7119772376523916 val auc 0.7859851672551252\n",
      "epoch 15\n",
      "training\n",
      "train loss 0.17291431\n",
      "val loss 0.18829721\n",
      "val acc 0.7128771595374717 val auc 0.7878376767785673\n",
      "epoch 16\n",
      "training\n",
      "train loss 0.1720845\n",
      "val loss 0.187848\n",
      "val acc 0.7131509618337102 val auc 0.7888458777822976\n",
      "epoch 17\n",
      "training\n",
      "train loss 0.1713428\n",
      "val loss 0.18768369\n",
      "val acc 0.7131064533325865 val auc 0.789529597896465\n",
      "epoch 18\n",
      "training\n",
      "train loss 0.17045984\n",
      "val loss 0.18756402\n",
      "val acc 0.7128416527556763 val auc 0.7899196806677197\n",
      "epoch 19\n",
      "training\n",
      "train loss 0.16956362\n",
      "val loss 0.18745211\n",
      "val acc 0.7131199559115791 val auc 0.7899707605371404\n",
      "epoch 20\n",
      "training\n",
      "train loss 0.16878922\n",
      "val loss 0.18734607\n",
      "val acc 0.7138355925981863 val auc 0.7901485173023743\n",
      "epoch 21\n",
      "training\n",
      "train loss 0.16808641\n",
      "val loss 0.18701547\n",
      "val acc 0.714507470926947 val auc 0.7906352937262621\n",
      "epoch 22\n",
      "training\n",
      "train loss 0.16717903\n",
      "val loss 0.18668821\n",
      "val acc 0.7150345716031762 val auc 0.7913717773795182\n",
      "epoch 23\n",
      "training\n",
      "train loss 0.16622676\n",
      "val loss 0.1865938\n",
      "val acc 0.7156701930068643 val auc 0.7924946363441\n",
      "epoch 24\n",
      "training\n",
      "train loss 0.16542183\n",
      "val loss 0.18638884\n",
      "val acc 0.7162343007514436 val auc 0.7930930389710155\n",
      "epoch 25\n",
      "training\n",
      "train loss 0.16450252\n",
      "val loss 0.18604068\n",
      "val acc 0.716606371817017 val auc 0.7935511214094364\n",
      "epoch 26\n",
      "training\n",
      "train loss 0.16330397\n",
      "val loss 0.18582934\n",
      "val acc 0.7173142570230914 val auc 0.7941944828754834\n",
      "epoch 27\n",
      "training\n",
      "train loss 0.16199677\n",
      "val loss 0.18577914\n",
      "val acc 0.7177275859689201 val auc 0.7944318977030767\n",
      "epoch 28\n",
      "training\n",
      "train loss 0.1606713\n",
      "val loss 0.185898\n",
      "val acc 0.7184294700287754 val auc 0.7949873030383511\n",
      "epoch 29\n",
      "training\n",
      "train loss 0.15918048\n",
      "val loss 0.18607272\n",
      "val acc 0.7189165630635451 val auc 0.7954482256216614\n",
      "epoch 30\n",
      "training\n",
      "train loss 0.15744385\n",
      "val loss 0.18633206\n",
      "val acc 0.7188843069026184 val auc 0.7951914550472837\n",
      "epoch 31\n",
      "training\n",
      "train loss 0.1554916\n",
      "val loss 0.18674636\n",
      "val acc 0.7188698041325893 val auc 0.7949812293845041\n",
      "epoch 32\n",
      "training\n",
      "train loss 0.15342315\n",
      "val loss 0.18726955\n",
      "val acc 0.7182431844482297 val auc 0.7941927777365582\n",
      "epoch 33\n",
      "training\n",
      "train loss 0.15114956\n",
      "val loss 0.18801224\n",
      "val acc 0.7182074276186752 val auc 0.7939530004661512\n",
      "epoch 34\n",
      "training\n",
      "train loss 0.14871418\n",
      "val loss 0.1893421\n",
      "val acc 0.716743648036775 val auc 0.7924781618934309\n",
      "epoch 35\n",
      "training\n",
      "train loss 0.14619564\n",
      "val loss 0.19093573\n",
      "val acc 0.7164765970300327 val auc 0.7918903894185547\n",
      "epoch 36\n",
      "training\n",
      "train loss 0.14354932\n",
      "val loss 0.19250561\n",
      "val acc 0.7143364382597076 val auc 0.7897291453324226\n",
      "epoch 37\n",
      "training\n",
      "train loss 0.14082703\n",
      "val loss 0.19373225\n",
      "val acc 0.7150233194540158 val auc 0.7901757559454112\n",
      "epoch 38\n",
      "training\n",
      "train loss 0.13805954\n",
      "val loss 0.19520415\n",
      "val acc 0.7127681387144945 val auc 0.788075397513606\n",
      "epoch 39\n",
      "training\n",
      "train loss 0.13529396\n",
      "val loss 0.19740501\n",
      "val acc 0.711615418544942 val auc 0.7853731708226407\n",
      "epoch 40\n",
      "training\n",
      "train loss 0.13300213\n",
      "val loss 0.19846663\n",
      "val acc 0.7119484821600925 val auc 0.7875194497489837\n",
      "epoch 41\n",
      "training\n"
     ]
    }
   ],
   "source": [
    "try:\n",
    "    sess\n",
    "except NameError:\n",
    "    pass\n",
    "else:\n",
    "    sess.close()\n",
    "\n",
    "sess = tf.Session() # we don't want to close the session\n",
    "\n",
    "learning_rate=.07\n",
    "epochs=50\n",
    "#     l2_loss_term = .0001 * sum([tf.reduce_sum(tf.reshape(weight*weight, [-1])) for weight in all_weights])\n",
    "mse_loss_term = tf.reduce_mean(tf.squared_difference(pred_y, y_true))\n",
    "ce_loss_term = -(tf.reduce_mean(((y_true+1)/2)*tf.math.log((pred_y+1)/2)+(1-(y_true+1)/2)*tf.math.log(1-(pred_y+1)/2)))\n",
    "loss = mse_loss_term\n",
    "# + l2_loss_term\n",
    "train_step = tf.train.AdamOptimizer(learning_rate=learning_rate).minimize(loss)\n",
    "\n",
    "init = tf.global_variables_initializer()\n",
    "\n",
    "flat_val_ys = [(1 if y[0] > y[1] else 0) for y in val_ys]\n",
    "\n",
    "min_acc_auc = (math.inf, math.inf)\n",
    "\n",
    "sess.run(init)\n",
    "\n",
    "val_accs = []\n",
    "val_aucs = []\n",
    "\n",
    "# tensorboard doesn't work with tensorflow 1 anymore... \n",
    "# ill fucking switch to pytorch before touching tf2\n",
    "# current_time = datetime.datetime.now().strftime(\"%Y%m%d-%H%M%S\")\n",
    "# train_log_dir = 'logs/gradient_tape/' + current_time + '/train'\n",
    "# test_log_dir = 'logs/gradient_tape/' + current_time + '/test'\n",
    "# train_file_writer = tf.summary.FileWriter(train_log_dir, sess.graph)\n",
    "# test_file_writer = tf.summary.FileWriter(test_log_dir, sess.graph)\n",
    "\n",
    "with open(\"prev_run_stats.pickle\", \"rb\") as prev_run_file:\n",
    "    _, prev_run_scores, _, prev_best_auc_run = pickle.load(prev_run_file)\n",
    "    _, prev_best_aucs = prev_run_scores[prev_best_auc_run]\n",
    "\n",
    "for epoch in tqdm(range(epochs), leave=False):\n",
    "    print(\"epoch\", epoch)\n",
    "    print(\"training\")    \n",
    "#     for b_tags, b_user_Xs, b_movie_Xs, b_genres, b_ys in batchify(train_tags, user_Xs, movie_Xs, train_genres, ys, batch_size=995548, shuffle=False):\n",
    "    feed_dict = {user_slice_idxs: user_Xs, \n",
    "                 movie_slice_idxs: movie_Xs, \n",
    "                 movie_genre_embeddings: train_genres,\n",
    "#                  tags: b_tags,\n",
    "                 y_true: ys}\n",
    "    outs = (train_step, loss, pred_y[:5])\n",
    "    _, lossval, pred_y_val = sess.run(outs, feed_dict=feed_dict)\n",
    "#         print(\"pred_ys\", pred_y_val, \"true_ys\", b_ys[:5])\n",
    "    print(\"train loss\", lossval)\n",
    "\n",
    "#         with train_file_writer as writer:\n",
    "#             writer.add_summary(tf.summary.scalar(\"loss\", loss))\n",
    "\n",
    "    feed_dict = {user_slice_idxs: user_val_Xs, \n",
    "                movie_slice_idxs: movie_val_Xs,\n",
    "                movie_genre_embeddings: val_genres,\n",
    "#                 tags: val_tags,\n",
    "                y_true: val_ys}\n",
    "    val_y_pred, val_loss_val = sess.run((pred_y, loss), feed_dict=feed_dict)\n",
    "    flat_pred_y_floats = [y[0]/(y[0]+y[1]) for y in val_y_pred]\n",
    "    flat_pred_y_bools = [(1 if y[0] > y[1] else 0) for y in val_y_pred]\n",
    "\n",
    "\n",
    "    print(\"val loss\", val_loss_val)\n",
    "    acc = metrics.accuracy_score(flat_val_ys, flat_pred_y_bools)\n",
    "    fpr, tpr, _ = metrics.roc_curve(flat_val_ys, flat_pred_y_floats)\n",
    "    auc = metrics.auc(fpr, tpr)\n",
    "    print(\"val acc\", acc, \"val auc\", auc)\n",
    "    min_acc_auc = min(min_acc_auc, (acc, auc))\n",
    "    val_accs.append(acc)\n",
    "    val_aucs.append(auc)\n",
    "    \n",
    "    plt.clf()\n",
    "    plt.title(\"val aucs per epoch\")\n",
    "    plt.plot(prev_best_aucs, marker='o', color=\"grey\")\n",
    "    plt.plot(val_aucs, marker='o', color=\"black\")\n",
    "    plt.savefig(\"cur_val_aucs.png\")\n",
    "    \n",
    "#     with test_file_writer as writer:\n",
    "#         writer.add_summary(value=[tf.summary.Value(tag=\"loss\", simple_value=val_loss_val)])\n",
    "#         writer.add_summary(tf.summary.scalar(\"loss\", loss))\n",
    "#         writer.add_summary(value=[tf.summary.Value(tag=\"acc\", simple_value=acc)])\n",
    "#         writer.add_summary(value=[tf.summary.Value(tag=\"auc\", simple_value=auc)])\n",
    "\n"
   ]
  },
  {
   "cell_type": "code",
   "execution_count": null,
   "metadata": {},
   "outputs": [],
   "source": [
    "# im reduced to manually tensorboarding like a loser cause tf2 api is being a dick not my fault\n",
    "\n",
    "with open(\"prev_run_stats.pickle\", \"rb\") as prev_run_file:\n",
    "    cur_run, run_scores, best_auc, best_auc_run = pickle.load(prev_run_file)\n",
    "\n",
    "run_scores[cur_run] = (val_accs, val_aucs)\n",
    "if max(val_aucs) > best_auc:\n",
    "    best_auc, best_auc_run = val_aucs[-1], cur_run\n",
    "\n",
    "cur_run += 1\n",
    "best_accs, best_aucs = run_scores[best_auc_run]\n",
    "\n",
    "with open(\"prev_run_stats.pickle\", \"wb+\") as prev_run_file:\n",
    "    pickle.dump((cur_run, run_scores, best_auc, best_auc_run), prev_run_file)\n",
    "\n",
    "plt.title(\"val accs per epoch\")\n",
    "plt.plot(best_accs, marker='o', color=\"grey\")\n",
    "plt.plot(val_accs, marker='o', color=\"black\")\n",
    "plt.show()\n",
    "\n",
    "plt.title(\"val aucs per epoch\")\n",
    "plt.plot(best_aucs, marker='o', color=\"grey\")\n",
    "plt.plot(val_aucs, marker='o', color=\"black\")\n",
    "plt.show()\n",
    "\n",
    "print(f\"best run: {best_auc_run}\")"
   ]
  },
  {
   "cell_type": "code",
   "execution_count": 39,
   "metadata": {},
   "outputs": [
    {
     "data": {
      "image/png": "[encoded data removed]",
      "text/plain": [
       "<Figure size 720x360 with 1 Axes>"
      ]
     },
     "metadata": {
      "needs_background": "light"
     },
     "output_type": "display_data"
    },
    {
     "data": {
      "image/png": "[encoded data removed]",
      "text/plain": [
       "<Figure size 720x360 with 1 Axes>"
      ]
     },
     "metadata": {
      "needs_background": "light"
     },
     "output_type": "display_data"
    },
    {
     "data": {
      "image/png": "[encoded data removed]",
      "text/plain": [
       "<Figure size 720x360 with 1 Axes>"
      ]
     },
     "metadata": {
      "needs_background": "light"
     },
     "output_type": "display_data"
    },
    {
     "data": {
      "image/png": "[encoded data removed]",
      "text/plain": [
       "<Figure size 720x360 with 1 Axes>"
      ]
     },
     "metadata": {
      "needs_background": "light"
     },
     "output_type": "display_data"
    }
   ],
   "source": [
    "plt.rc('figure', figsize=(10, 5))\n",
    "plt.title(\"movie_embedding_rows\")\n",
    "plt.hist(sess.run(movie_embedding_rows, feed_dict).flatten(), log=True, bins=200)\n",
    "plt.show()\n",
    "plt.title(\"user_embedding_columns\")\n",
    "plt.hist(sess.run(user_embedding_columns, feed_dict).flatten(), log=True, bins=200)\n",
    "plt.show()\n",
    "plt.title(\"user_slice_bias\")\n",
    "plt.hist(sess.run(user_slice_bias, feed_dict).flatten(), log=True, bins=400)\n",
    "plt.show()\n",
    "plt.title(\"movie_slice_bias\")\n",
    "plt.hist(sess.run(movie_slice_bias, feed_dict).flatten(), log=True, bins=400)\n",
    "plt.show()\n",
    "# movie embedding and user embedding look like textbook normal distributions makes sense yepp\n",
    "# user biases look like some sort of bimodal distribution?????\n",
    "# and why are movie slice biases so chaotic"
   ]
  },
  {
   "cell_type": "code",
   "execution_count": 136,
   "metadata": {},
   "outputs": [
    {
     "data": {
      "image/png": "[encoded data removed]",
      "text/plain": [
       "<Figure size 720x360 with 1 Axes>"
      ]
     },
     "metadata": {
      "needs_background": "light"
     },
     "output_type": "display_data"
    },
    {
     "data": {
      "image/png": "[encoded data removed]",
      "text/plain": [
       "<Figure size 720x360 with 1 Axes>"
      ]
     },
     "metadata": {
      "needs_background": "light"
     },
     "output_type": "display_data"
    }
   ],
   "source": [
    "mode1 = np.random.normal(0, 1, 5000000)\n",
    "mode2 = np.random.normal(-2, 1, 1000000)\n",
    "\n",
    "plt.hist(np.concatenate((mode1, mode2)), bins=100, log=True)\n",
    "plt.show()\n",
    "plt.hist(mode1, bins=100, log=True)\n",
    "plt.hist(mode2, bins=100, log=True)\n",
    "plt.show()\n"
   ]
  },
  {
   "cell_type": "code",
   "execution_count": 127,
   "metadata": {},
   "outputs": [
    {
     "data": {
      "image/png": "[encoded data removed]",
      "text/plain": [
       "<Figure size 720x360 with 1 Axes>"
      ]
     },
     "metadata": {
      "needs_background": "light"
     },
     "output_type": "display_data"
    },
    {
     "name": "stdout",
     "output_type": "stream",
     "text": [
      "avg pos -0.00035934525807793615 pos ct 75741520\n",
      "avg neg 0.0005471634820769635 neg ct 84227920\n"
     ]
    },
    {
     "data": {
      "image/png": "[encoded data removed]",
      "text/plain": [
       "<Figure size 720x360 with 1 Axes>"
      ]
     },
     "metadata": {
      "needs_background": "light"
     },
     "output_type": "display_data"
    },
    {
     "data": {
      "image/png": "[encoded data removed]",
      "text/plain": [
       "<Figure size 720x360 with 1 Axes>"
      ]
     },
     "metadata": {
      "needs_background": "light"
     },
     "output_type": "display_data"
    }
   ],
   "source": [
    "mult_inputs = sess.run(mult_input, feed_dict)\n",
    "plt.cla()\n",
    "plt.title(\"mult_inputs\")\n",
    "plt.hist(mult_inputs.flatten(), log=True, bins=200)\n",
    "plt.show()\n",
    "\n",
    "pred_ys = sess.run(pred_y, feed_dict)\n",
    "\n",
    "mult_input_pos = np.array([mult_input for mult_input, pred in zip(mult_inputs, pred_ys) if pred[0] > pred[1]]).flatten()\n",
    "if len(mult_input_pos) > 0:\n",
    "    print(\"avg pos\", sum(mult_input_pos)/len(mult_input_pos), \"pos ct\", len(mult_input_pos))\n",
    "else:\n",
    "    print(\"mult_input_pos\", mult_input_pos)\n",
    "\n",
    "mult_input_neg = np.array([mult_input for mult_input, pred in zip(mult_inputs, pred_ys) if pred[0] <= pred[1]]).flatten()\n",
    "if len(mult_input_neg) > 0:\n",
    "    print(\"avg neg\", sum(mult_input_neg)/len(mult_input_neg), \"neg ct\", len(mult_input_neg))\n",
    "else:\n",
    "    print(\"mult_input_neg\", mult_input_neg)\n",
    "\n",
    "plt.title(\"pos inputs\")\n",
    "plt.hist(mult_input_pos, bins=200, log=True)\n",
    "plt.show()\n",
    "plt.title(\"neg inputs\")\n",
    "plt.hist(mult_input_neg, bins=200, log=True)\n",
    "plt.show()\n",
    "\n",
    "# makes sense why these are basically chi square - composed of normal distributions multiplied together which is fundamentally what we're predicting"
   ]
  },
  {
   "cell_type": "code",
   "execution_count": null,
   "metadata": {},
   "outputs": [],
   "source": []
  }
 ],
 "metadata": {
  "kernelspec": {
   "display_name": "Python 3",
   "language": "python",
   "name": "python3"
  },
  "language_info": {
   "codemirror_mode": {
    "name": "ipython",
    "version": 3
   },
   "file_extension": ".py",
   "mimetype": "text/x-python",
   "name": "python",
   "nbconvert_exporter": "python",
   "pygments_lexer": "ipython3",
   "version": "3.6.8"
  }
 },
 "nbformat": 4,
 "nbformat_minor": 2
}
